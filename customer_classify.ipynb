{
 "cells": [
  {
   "cell_type": "code",
   "execution_count": 1,
   "metadata": {
    "collapsed": true
   },
   "outputs": [],
   "source": [
    "##import lib and data\n",
    "import pandas as pd\n",
    "import numpy as np\n",
    "data = pd.read_csv('./business_record.csv')"
   ]
  },
  {
   "cell_type": "code",
   "execution_count": 2,
   "metadata": {
    "collapsed": false
   },
   "outputs": [
    {
     "data": {
      "text/html": [
       "<div>\n",
       "<table border=\"1\" class=\"dataframe\">\n",
       "  <thead>\n",
       "    <tr style=\"text-align: right;\">\n",
       "      <th></th>\n",
       "      <th>id</th>\n",
       "      <th>entityid</th>\n",
       "      <th>transactionid</th>\n",
       "      <th>user_id</th>\n",
       "      <th>car_id</th>\n",
       "      <th>type</th>\n",
       "      <th>start_time</th>\n",
       "      <th>start_lng</th>\n",
       "      <th>start_lat</th>\n",
       "      <th>end_lng</th>\n",
       "      <th>...</th>\n",
       "      <th>refund_status</th>\n",
       "      <th>is_allow_refund</th>\n",
       "      <th>map_start_lng</th>\n",
       "      <th>map_start_lat</th>\n",
       "      <th>map_end_lng</th>\n",
       "      <th>map_end_lat</th>\n",
       "      <th>fine</th>\n",
       "      <th>discount</th>\n",
       "      <th>remark</th>\n",
       "      <th>valid</th>\n",
       "    </tr>\n",
       "  </thead>\n",
       "  <tbody>\n",
       "    <tr>\n",
       "      <th>0</th>\n",
       "      <td>94156</td>\n",
       "      <td>18</td>\n",
       "      <td>7e5ce163-97a7-4f60-b3fe-33f57adddba3</td>\n",
       "      <td>13121</td>\n",
       "      <td>76</td>\n",
       "      <td>2</td>\n",
       "      <td>2016/6/3 10:13</td>\n",
       "      <td>108.750894</td>\n",
       "      <td>34.014670</td>\n",
       "      <td>108.747022</td>\n",
       "      <td>...</td>\n",
       "      <td>0</td>\n",
       "      <td>0</td>\n",
       "      <td>108.762144</td>\n",
       "      <td>34.019072</td>\n",
       "      <td>108.758242</td>\n",
       "      <td>34.018975</td>\n",
       "      <td>0</td>\n",
       "      <td>0</td>\n",
       "      <td>NaN</td>\n",
       "      <td>0</td>\n",
       "    </tr>\n",
       "    <tr>\n",
       "      <th>1</th>\n",
       "      <td>103293</td>\n",
       "      <td>18</td>\n",
       "      <td>46424d53-8fd5-4ecd-90b1-787f7eb2ddbc</td>\n",
       "      <td>11473</td>\n",
       "      <td>70</td>\n",
       "      <td>2</td>\n",
       "      <td>2016/7/2 20:54</td>\n",
       "      <td>108.745663</td>\n",
       "      <td>34.016955</td>\n",
       "      <td>108.745668</td>\n",
       "      <td>...</td>\n",
       "      <td>0</td>\n",
       "      <td>0</td>\n",
       "      <td>108.756871</td>\n",
       "      <td>34.021444</td>\n",
       "      <td>108.756882</td>\n",
       "      <td>34.021441</td>\n",
       "      <td>0</td>\n",
       "      <td>0</td>\n",
       "      <td>NaN</td>\n",
       "      <td>0</td>\n",
       "    </tr>\n",
       "    <tr>\n",
       "      <th>2</th>\n",
       "      <td>98452</td>\n",
       "      <td>18</td>\n",
       "      <td>480ccc50-8fff-40ae-ab8b-7bae9b4ff559</td>\n",
       "      <td>25927</td>\n",
       "      <td>70</td>\n",
       "      <td>2</td>\n",
       "      <td>2016/6/19 12:43</td>\n",
       "      <td>108.749987</td>\n",
       "      <td>34.013616</td>\n",
       "      <td>108.749987</td>\n",
       "      <td>...</td>\n",
       "      <td>0</td>\n",
       "      <td>0</td>\n",
       "      <td>108.761224</td>\n",
       "      <td>34.018033</td>\n",
       "      <td>108.761233</td>\n",
       "      <td>34.018033</td>\n",
       "      <td>0</td>\n",
       "      <td>0</td>\n",
       "      <td>NaN</td>\n",
       "      <td>0</td>\n",
       "    </tr>\n",
       "    <tr>\n",
       "      <th>3</th>\n",
       "      <td>90155</td>\n",
       "      <td>18</td>\n",
       "      <td>5553a975-d990-47a1-b74e-d20637e0d7bf</td>\n",
       "      <td>27776</td>\n",
       "      <td>70</td>\n",
       "      <td>2</td>\n",
       "      <td>2016/5/17 22:01</td>\n",
       "      <td>108.745447</td>\n",
       "      <td>34.017462</td>\n",
       "      <td>108.745630</td>\n",
       "      <td>...</td>\n",
       "      <td>0</td>\n",
       "      <td>0</td>\n",
       "      <td>108.756652</td>\n",
       "      <td>34.021955</td>\n",
       "      <td>108.756847</td>\n",
       "      <td>34.021932</td>\n",
       "      <td>0</td>\n",
       "      <td>0</td>\n",
       "      <td>NaN</td>\n",
       "      <td>0</td>\n",
       "    </tr>\n",
       "    <tr>\n",
       "      <th>4</th>\n",
       "      <td>99609</td>\n",
       "      <td>18</td>\n",
       "      <td>8af22de4-095b-421f-9927-a411d3ecd54d</td>\n",
       "      <td>19927</td>\n",
       "      <td>76</td>\n",
       "      <td>2</td>\n",
       "      <td>2016/6/22 17:40</td>\n",
       "      <td>108.746764</td>\n",
       "      <td>34.014425</td>\n",
       "      <td>108.746764</td>\n",
       "      <td>...</td>\n",
       "      <td>0</td>\n",
       "      <td>0</td>\n",
       "      <td>108.757982</td>\n",
       "      <td>34.018888</td>\n",
       "      <td>108.757990</td>\n",
       "      <td>34.018890</td>\n",
       "      <td>0</td>\n",
       "      <td>0</td>\n",
       "      <td>NaN</td>\n",
       "      <td>0</td>\n",
       "    </tr>\n",
       "  </tbody>\n",
       "</table>\n",
       "<p>5 rows × 31 columns</p>\n",
       "</div>"
      ],
      "text/plain": [
       "       id  entityid                         transactionid  user_id  car_id  \\\n",
       "0   94156        18  7e5ce163-97a7-4f60-b3fe-33f57adddba3    13121      76   \n",
       "1  103293        18  46424d53-8fd5-4ecd-90b1-787f7eb2ddbc    11473      70   \n",
       "2   98452        18  480ccc50-8fff-40ae-ab8b-7bae9b4ff559    25927      70   \n",
       "3   90155        18  5553a975-d990-47a1-b74e-d20637e0d7bf    27776      70   \n",
       "4   99609        18  8af22de4-095b-421f-9927-a411d3ecd54d    19927      76   \n",
       "\n",
       "   type       start_time   start_lng  start_lat     end_lng  ...    \\\n",
       "0     2   2016/6/3 10:13  108.750894  34.014670  108.747022  ...     \n",
       "1     2   2016/7/2 20:54  108.745663  34.016955  108.745668  ...     \n",
       "2     2  2016/6/19 12:43  108.749987  34.013616  108.749987  ...     \n",
       "3     2  2016/5/17 22:01  108.745447  34.017462  108.745630  ...     \n",
       "4     2  2016/6/22 17:40  108.746764  34.014425  108.746764  ...     \n",
       "\n",
       "   refund_status is_allow_refund  map_start_lng  map_start_lat  map_end_lng  \\\n",
       "0              0               0     108.762144      34.019072   108.758242   \n",
       "1              0               0     108.756871      34.021444   108.756882   \n",
       "2              0               0     108.761224      34.018033   108.761233   \n",
       "3              0               0     108.756652      34.021955   108.756847   \n",
       "4              0               0     108.757982      34.018888   108.757990   \n",
       "\n",
       "   map_end_lat  fine  discount  remark  valid  \n",
       "0    34.018975     0         0     NaN      0  \n",
       "1    34.021441     0         0     NaN      0  \n",
       "2    34.018033     0         0     NaN      0  \n",
       "3    34.021932     0         0     NaN      0  \n",
       "4    34.018890     0         0     NaN      0  \n",
       "\n",
       "[5 rows x 31 columns]"
      ]
     },
     "execution_count": 2,
     "metadata": {},
     "output_type": "execute_result"
    }
   ],
   "source": [
    "data.head()"
   ]
  },
  {
   "cell_type": "code",
   "execution_count": 3,
   "metadata": {
    "collapsed": false
   },
   "outputs": [
    {
     "data": {
      "text/plain": [
       "Index(['id', 'entityid', 'transactionid', 'user_id', 'car_id', 'type',\n",
       "       'start_time', 'start_lng', 'start_lat', 'end_lng', 'end_lat',\n",
       "       'end_time', 'current_miles', 'stoptime', 'cost', 'moeny', 'bonus',\n",
       "       'stop_time_count', 'point', 'speed_max', 'speed_avg', 'refund_status',\n",
       "       'is_allow_refund', 'map_start_lng', 'map_start_lat', 'map_end_lng',\n",
       "       'map_end_lat', 'fine', 'discount', 'remark', 'valid'],\n",
       "      dtype='object')"
      ]
     },
     "execution_count": 3,
     "metadata": {},
     "output_type": "execute_result"
    }
   ],
   "source": [
    "data.columns"
   ]
  },
  {
   "cell_type": "code",
   "execution_count": 4,
   "metadata": {
    "collapsed": true
   },
   "outputs": [],
   "source": [
    "#choose useful feature\n",
    "data = data[['user_id','start_time','end_time','current_miles','bonus']]"
   ]
  },
  {
   "cell_type": "code",
   "execution_count": 5,
   "metadata": {
    "collapsed": false
   },
   "outputs": [
    {
     "data": {
      "text/html": [
       "<div>\n",
       "<table border=\"1\" class=\"dataframe\">\n",
       "  <thead>\n",
       "    <tr style=\"text-align: right;\">\n",
       "      <th></th>\n",
       "      <th>user_id</th>\n",
       "      <th>start_time</th>\n",
       "      <th>end_time</th>\n",
       "      <th>current_miles</th>\n",
       "      <th>bonus</th>\n",
       "    </tr>\n",
       "  </thead>\n",
       "  <tbody>\n",
       "    <tr>\n",
       "      <th>0</th>\n",
       "      <td>13121</td>\n",
       "      <td>2016/6/3 10:13</td>\n",
       "      <td>2016/6/3 16:29</td>\n",
       "      <td>4225</td>\n",
       "      <td>1.0</td>\n",
       "    </tr>\n",
       "    <tr>\n",
       "      <th>1</th>\n",
       "      <td>11473</td>\n",
       "      <td>2016/7/2 20:54</td>\n",
       "      <td>2016/7/2 20:56</td>\n",
       "      <td>9</td>\n",
       "      <td>0.0</td>\n",
       "    </tr>\n",
       "    <tr>\n",
       "      <th>2</th>\n",
       "      <td>25927</td>\n",
       "      <td>2016/6/19 12:43</td>\n",
       "      <td>2016/6/19 12:56</td>\n",
       "      <td>0</td>\n",
       "      <td>1.0</td>\n",
       "    </tr>\n",
       "    <tr>\n",
       "      <th>3</th>\n",
       "      <td>27776</td>\n",
       "      <td>2016/5/17 22:01</td>\n",
       "      <td>2016/5/17 22:04</td>\n",
       "      <td>84</td>\n",
       "      <td>0.0</td>\n",
       "    </tr>\n",
       "    <tr>\n",
       "      <th>4</th>\n",
       "      <td>19927</td>\n",
       "      <td>2016/6/22 17:40</td>\n",
       "      <td>2016/6/22 17:48</td>\n",
       "      <td>1</td>\n",
       "      <td>0.0</td>\n",
       "    </tr>\n",
       "  </tbody>\n",
       "</table>\n",
       "</div>"
      ],
      "text/plain": [
       "   user_id       start_time         end_time  current_miles  bonus\n",
       "0    13121   2016/6/3 10:13   2016/6/3 16:29           4225    1.0\n",
       "1    11473   2016/7/2 20:54   2016/7/2 20:56              9    0.0\n",
       "2    25927  2016/6/19 12:43  2016/6/19 12:56              0    1.0\n",
       "3    27776  2016/5/17 22:01  2016/5/17 22:04             84    0.0\n",
       "4    19927  2016/6/22 17:40  2016/6/22 17:48              1    0.0"
      ]
     },
     "execution_count": 5,
     "metadata": {},
     "output_type": "execute_result"
    }
   ],
   "source": [
    "data.head()"
   ]
  },
  {
   "cell_type": "code",
   "execution_count": 6,
   "metadata": {
    "collapsed": false
   },
   "outputs": [],
   "source": [
    "##construct feature: F=count;\n",
    "df = pd.DataFrame()\n",
    "data['F'] = 1\n",
    "df['F'] = data.groupby('user_id')['F'].aggregate('sum')"
   ]
  },
  {
   "cell_type": "code",
   "execution_count": 7,
   "metadata": {
    "collapsed": false
   },
   "outputs": [
    {
     "data": {
      "text/html": [
       "<div>\n",
       "<table border=\"1\" class=\"dataframe\">\n",
       "  <thead>\n",
       "    <tr style=\"text-align: right;\">\n",
       "      <th></th>\n",
       "      <th>F</th>\n",
       "    </tr>\n",
       "    <tr>\n",
       "      <th>user_id</th>\n",
       "      <th></th>\n",
       "    </tr>\n",
       "  </thead>\n",
       "  <tbody>\n",
       "    <tr>\n",
       "      <th>1939</th>\n",
       "      <td>10</td>\n",
       "    </tr>\n",
       "    <tr>\n",
       "      <th>2084</th>\n",
       "      <td>6</td>\n",
       "    </tr>\n",
       "    <tr>\n",
       "      <th>3117</th>\n",
       "      <td>2</td>\n",
       "    </tr>\n",
       "    <tr>\n",
       "      <th>5228</th>\n",
       "      <td>1</td>\n",
       "    </tr>\n",
       "    <tr>\n",
       "      <th>7355</th>\n",
       "      <td>1</td>\n",
       "    </tr>\n",
       "  </tbody>\n",
       "</table>\n",
       "</div>"
      ],
      "text/plain": [
       "          F\n",
       "user_id    \n",
       "1939     10\n",
       "2084      6\n",
       "3117      2\n",
       "5228      1\n",
       "7355      1"
      ]
     },
     "execution_count": 7,
     "metadata": {},
     "output_type": "execute_result"
    }
   ],
   "source": [
    "#统计用户在时间窗口内驾驶次数\n",
    "df.head()"
   ]
  },
  {
   "cell_type": "code",
   "execution_count": 8,
   "metadata": {
    "collapsed": true
   },
   "outputs": [],
   "source": [
    "##construct feature:  M=SUM(current_miles)\n",
    "df['M'] = data.groupby('user_id')['current_miles'].aggregate('sum')"
   ]
  },
  {
   "cell_type": "code",
   "execution_count": 9,
   "metadata": {
    "collapsed": false
   },
   "outputs": [
    {
     "data": {
      "text/html": [
       "<div>\n",
       "<table border=\"1\" class=\"dataframe\">\n",
       "  <thead>\n",
       "    <tr style=\"text-align: right;\">\n",
       "      <th></th>\n",
       "      <th>F</th>\n",
       "      <th>M</th>\n",
       "    </tr>\n",
       "    <tr>\n",
       "      <th>user_id</th>\n",
       "      <th></th>\n",
       "      <th></th>\n",
       "    </tr>\n",
       "  </thead>\n",
       "  <tbody>\n",
       "    <tr>\n",
       "      <th>1939</th>\n",
       "      <td>10</td>\n",
       "      <td>0</td>\n",
       "    </tr>\n",
       "    <tr>\n",
       "      <th>2084</th>\n",
       "      <td>6</td>\n",
       "      <td>0</td>\n",
       "    </tr>\n",
       "    <tr>\n",
       "      <th>3117</th>\n",
       "      <td>2</td>\n",
       "      <td>35</td>\n",
       "    </tr>\n",
       "    <tr>\n",
       "      <th>5228</th>\n",
       "      <td>1</td>\n",
       "      <td>0</td>\n",
       "    </tr>\n",
       "    <tr>\n",
       "      <th>7355</th>\n",
       "      <td>1</td>\n",
       "      <td>0</td>\n",
       "    </tr>\n",
       "  </tbody>\n",
       "</table>\n",
       "</div>"
      ],
      "text/plain": [
       "          F   M\n",
       "user_id        \n",
       "1939     10   0\n",
       "2084      6   0\n",
       "3117      2  35\n",
       "5228      1   0\n",
       "7355      1   0"
      ]
     },
     "execution_count": 9,
     "metadata": {},
     "output_type": "execute_result"
    }
   ],
   "source": [
    "df.head()"
   ]
  },
  {
   "cell_type": "code",
   "execution_count": 10,
   "metadata": {
    "collapsed": true
   },
   "outputs": [],
   "source": [
    "##construct feature: D=AVG(bonus);\n",
    "df['D'] = data.groupby('user_id')['bonus'].aggregate('mean')"
   ]
  },
  {
   "cell_type": "code",
   "execution_count": 11,
   "metadata": {
    "collapsed": false
   },
   "outputs": [
    {
     "data": {
      "text/html": [
       "<div>\n",
       "<table border=\"1\" class=\"dataframe\">\n",
       "  <thead>\n",
       "    <tr style=\"text-align: right;\">\n",
       "      <th></th>\n",
       "      <th>F</th>\n",
       "      <th>M</th>\n",
       "      <th>D</th>\n",
       "    </tr>\n",
       "    <tr>\n",
       "      <th>user_id</th>\n",
       "      <th></th>\n",
       "      <th></th>\n",
       "      <th></th>\n",
       "    </tr>\n",
       "  </thead>\n",
       "  <tbody>\n",
       "    <tr>\n",
       "      <th>1939</th>\n",
       "      <td>10</td>\n",
       "      <td>0</td>\n",
       "      <td>0.00</td>\n",
       "    </tr>\n",
       "    <tr>\n",
       "      <th>2084</th>\n",
       "      <td>6</td>\n",
       "      <td>0</td>\n",
       "      <td>0.00</td>\n",
       "    </tr>\n",
       "    <tr>\n",
       "      <th>3117</th>\n",
       "      <td>2</td>\n",
       "      <td>35</td>\n",
       "      <td>0.75</td>\n",
       "    </tr>\n",
       "    <tr>\n",
       "      <th>5228</th>\n",
       "      <td>1</td>\n",
       "      <td>0</td>\n",
       "      <td>0.00</td>\n",
       "    </tr>\n",
       "    <tr>\n",
       "      <th>7355</th>\n",
       "      <td>1</td>\n",
       "      <td>0</td>\n",
       "      <td>0.00</td>\n",
       "    </tr>\n",
       "  </tbody>\n",
       "</table>\n",
       "</div>"
      ],
      "text/plain": [
       "          F   M     D\n",
       "user_id              \n",
       "1939     10   0  0.00\n",
       "2084      6   0  0.00\n",
       "3117      2  35  0.75\n",
       "5228      1   0  0.00\n",
       "7355      1   0  0.00"
      ]
     },
     "execution_count": 11,
     "metadata": {},
     "output_type": "execute_result"
    }
   ],
   "source": [
    "df.head()"
   ]
  },
  {
   "cell_type": "code",
   "execution_count": 12,
   "metadata": {
    "collapsed": true
   },
   "outputs": [],
   "source": [
    "##construct feature:  L=load_time-start_time; R=load_time-end_time; set load time = 2017.1.15\n",
    "df['min_start_time'] = data.groupby(\"user_id\")[\"start_time\"].aggregate(np.min)\n",
    "df['max_end_time'] = data.groupby(\"user_id\")[\"start_time\"].aggregate(np.max)"
   ]
  },
  {
   "cell_type": "code",
   "execution_count": 13,
   "metadata": {
    "collapsed": false,
    "scrolled": false
   },
   "outputs": [
    {
     "data": {
      "text/html": [
       "<div>\n",
       "<table border=\"1\" class=\"dataframe\">\n",
       "  <thead>\n",
       "    <tr style=\"text-align: right;\">\n",
       "      <th></th>\n",
       "      <th>F</th>\n",
       "      <th>M</th>\n",
       "      <th>D</th>\n",
       "      <th>min_start_time</th>\n",
       "      <th>max_end_time</th>\n",
       "    </tr>\n",
       "    <tr>\n",
       "      <th>user_id</th>\n",
       "      <th></th>\n",
       "      <th></th>\n",
       "      <th></th>\n",
       "      <th></th>\n",
       "      <th></th>\n",
       "    </tr>\n",
       "  </thead>\n",
       "  <tbody>\n",
       "    <tr>\n",
       "      <th>1939</th>\n",
       "      <td>10</td>\n",
       "      <td>0</td>\n",
       "      <td>0.00</td>\n",
       "      <td>2015/10/24 18:34</td>\n",
       "      <td>2016/1/7 16:45</td>\n",
       "    </tr>\n",
       "    <tr>\n",
       "      <th>2084</th>\n",
       "      <td>6</td>\n",
       "      <td>0</td>\n",
       "      <td>0.00</td>\n",
       "      <td>2015/12/10 10:51</td>\n",
       "      <td>2015/12/2 16:43</td>\n",
       "    </tr>\n",
       "    <tr>\n",
       "      <th>3117</th>\n",
       "      <td>2</td>\n",
       "      <td>35</td>\n",
       "      <td>0.75</td>\n",
       "      <td>2015/10/18 13:24</td>\n",
       "      <td>2015/10/20 12:53</td>\n",
       "    </tr>\n",
       "    <tr>\n",
       "      <th>5228</th>\n",
       "      <td>1</td>\n",
       "      <td>0</td>\n",
       "      <td>0.00</td>\n",
       "      <td>2015/12/15 16:04</td>\n",
       "      <td>2015/12/15 16:04</td>\n",
       "    </tr>\n",
       "    <tr>\n",
       "      <th>7355</th>\n",
       "      <td>1</td>\n",
       "      <td>0</td>\n",
       "      <td>0.00</td>\n",
       "      <td>2016/12/28 9:44</td>\n",
       "      <td>2016/12/28 9:44</td>\n",
       "    </tr>\n",
       "  </tbody>\n",
       "</table>\n",
       "</div>"
      ],
      "text/plain": [
       "          F   M     D    min_start_time      max_end_time\n",
       "user_id                                                  \n",
       "1939     10   0  0.00  2015/10/24 18:34    2016/1/7 16:45\n",
       "2084      6   0  0.00  2015/12/10 10:51   2015/12/2 16:43\n",
       "3117      2  35  0.75  2015/10/18 13:24  2015/10/20 12:53\n",
       "5228      1   0  0.00  2015/12/15 16:04  2015/12/15 16:04\n",
       "7355      1   0  0.00   2016/12/28 9:44   2016/12/28 9:44"
      ]
     },
     "execution_count": 13,
     "metadata": {},
     "output_type": "execute_result"
    }
   ],
   "source": [
    "df.head()"
   ]
  },
  {
   "cell_type": "code",
   "execution_count": 14,
   "metadata": {
    "collapsed": true
   },
   "outputs": [],
   "source": [
    "##transfer type of min_start_time and max_end_time to datetime style\n",
    "#copy\n",
    "cnt_srs = df\n",
    "cnt_srs['min_start_time'] = pd.to_datetime(cnt_srs['min_start_time'])"
   ]
  },
  {
   "cell_type": "code",
   "execution_count": 15,
   "metadata": {
    "collapsed": false
   },
   "outputs": [
    {
     "data": {
      "text/html": [
       "<div>\n",
       "<table border=\"1\" class=\"dataframe\">\n",
       "  <thead>\n",
       "    <tr style=\"text-align: right;\">\n",
       "      <th></th>\n",
       "      <th>F</th>\n",
       "      <th>M</th>\n",
       "      <th>D</th>\n",
       "      <th>min_start_time</th>\n",
       "      <th>max_end_time</th>\n",
       "    </tr>\n",
       "    <tr>\n",
       "      <th>user_id</th>\n",
       "      <th></th>\n",
       "      <th></th>\n",
       "      <th></th>\n",
       "      <th></th>\n",
       "      <th></th>\n",
       "    </tr>\n",
       "  </thead>\n",
       "  <tbody>\n",
       "    <tr>\n",
       "      <th>1939</th>\n",
       "      <td>10</td>\n",
       "      <td>0</td>\n",
       "      <td>0.00</td>\n",
       "      <td>2015-10-24 18:34:00</td>\n",
       "      <td>2016-01-07 16:45:00</td>\n",
       "    </tr>\n",
       "    <tr>\n",
       "      <th>2084</th>\n",
       "      <td>6</td>\n",
       "      <td>0</td>\n",
       "      <td>0.00</td>\n",
       "      <td>2015-12-10 10:51:00</td>\n",
       "      <td>2015-12-02 16:43:00</td>\n",
       "    </tr>\n",
       "    <tr>\n",
       "      <th>3117</th>\n",
       "      <td>2</td>\n",
       "      <td>35</td>\n",
       "      <td>0.75</td>\n",
       "      <td>2015-10-18 13:24:00</td>\n",
       "      <td>2015-10-20 12:53:00</td>\n",
       "    </tr>\n",
       "    <tr>\n",
       "      <th>5228</th>\n",
       "      <td>1</td>\n",
       "      <td>0</td>\n",
       "      <td>0.00</td>\n",
       "      <td>2015-12-15 16:04:00</td>\n",
       "      <td>2015-12-15 16:04:00</td>\n",
       "    </tr>\n",
       "    <tr>\n",
       "      <th>7355</th>\n",
       "      <td>1</td>\n",
       "      <td>0</td>\n",
       "      <td>0.00</td>\n",
       "      <td>2016-12-28 09:44:00</td>\n",
       "      <td>2016-12-28 09:44:00</td>\n",
       "    </tr>\n",
       "  </tbody>\n",
       "</table>\n",
       "</div>"
      ],
      "text/plain": [
       "          F   M     D      min_start_time        max_end_time\n",
       "user_id                                                      \n",
       "1939     10   0  0.00 2015-10-24 18:34:00 2016-01-07 16:45:00\n",
       "2084      6   0  0.00 2015-12-10 10:51:00 2015-12-02 16:43:00\n",
       "3117      2  35  0.75 2015-10-18 13:24:00 2015-10-20 12:53:00\n",
       "5228      1   0  0.00 2015-12-15 16:04:00 2015-12-15 16:04:00\n",
       "7355      1   0  0.00 2016-12-28 09:44:00 2016-12-28 09:44:00"
      ]
     },
     "execution_count": 15,
     "metadata": {},
     "output_type": "execute_result"
    }
   ],
   "source": [
    "cnt_srs['max_end_time'] = pd.to_datetime(cnt_srs['max_end_time'])\n",
    "cnt_srs.head()"
   ]
  },
  {
   "cell_type": "code",
   "execution_count": 16,
   "metadata": {
    "collapsed": false
   },
   "outputs": [],
   "source": [
    "##remove hour min sec\n",
    "cnt_srs['min_start_time'] = cnt_srs.min_start_time.apply(lambda x: str(x)[:10])\n",
    "cnt_srs['max_end_time'] = cnt_srs.max_end_time.apply(lambda x: str(x)[:10])"
   ]
  },
  {
   "cell_type": "code",
   "execution_count": 17,
   "metadata": {
    "collapsed": false
   },
   "outputs": [
    {
     "data": {
      "text/html": [
       "<div>\n",
       "<table border=\"1\" class=\"dataframe\">\n",
       "  <thead>\n",
       "    <tr style=\"text-align: right;\">\n",
       "      <th></th>\n",
       "      <th>F</th>\n",
       "      <th>M</th>\n",
       "      <th>D</th>\n",
       "      <th>min_start_time</th>\n",
       "      <th>max_end_time</th>\n",
       "    </tr>\n",
       "    <tr>\n",
       "      <th>user_id</th>\n",
       "      <th></th>\n",
       "      <th></th>\n",
       "      <th></th>\n",
       "      <th></th>\n",
       "      <th></th>\n",
       "    </tr>\n",
       "  </thead>\n",
       "  <tbody>\n",
       "    <tr>\n",
       "      <th>1939</th>\n",
       "      <td>10</td>\n",
       "      <td>0</td>\n",
       "      <td>0.00</td>\n",
       "      <td>2015-10-24</td>\n",
       "      <td>2016-01-07</td>\n",
       "    </tr>\n",
       "    <tr>\n",
       "      <th>2084</th>\n",
       "      <td>6</td>\n",
       "      <td>0</td>\n",
       "      <td>0.00</td>\n",
       "      <td>2015-12-10</td>\n",
       "      <td>2015-12-02</td>\n",
       "    </tr>\n",
       "    <tr>\n",
       "      <th>3117</th>\n",
       "      <td>2</td>\n",
       "      <td>35</td>\n",
       "      <td>0.75</td>\n",
       "      <td>2015-10-18</td>\n",
       "      <td>2015-10-20</td>\n",
       "    </tr>\n",
       "    <tr>\n",
       "      <th>5228</th>\n",
       "      <td>1</td>\n",
       "      <td>0</td>\n",
       "      <td>0.00</td>\n",
       "      <td>2015-12-15</td>\n",
       "      <td>2015-12-15</td>\n",
       "    </tr>\n",
       "    <tr>\n",
       "      <th>7355</th>\n",
       "      <td>1</td>\n",
       "      <td>0</td>\n",
       "      <td>0.00</td>\n",
       "      <td>2016-12-28</td>\n",
       "      <td>2016-12-28</td>\n",
       "    </tr>\n",
       "  </tbody>\n",
       "</table>\n",
       "</div>"
      ],
      "text/plain": [
       "          F   M     D min_start_time max_end_time\n",
       "user_id                                          \n",
       "1939     10   0  0.00     2015-10-24   2016-01-07\n",
       "2084      6   0  0.00     2015-12-10   2015-12-02\n",
       "3117      2  35  0.75     2015-10-18   2015-10-20\n",
       "5228      1   0  0.00     2015-12-15   2015-12-15\n",
       "7355      1   0  0.00     2016-12-28   2016-12-28"
      ]
     },
     "execution_count": 17,
     "metadata": {},
     "output_type": "execute_result"
    }
   ],
   "source": [
    "cnt_srs.head()"
   ]
  },
  {
   "cell_type": "code",
   "execution_count": 18,
   "metadata": {
    "collapsed": false
   },
   "outputs": [],
   "source": [
    "##construct load_time\n",
    "cnt_srs['load_time'] = pd.datetime(2017,1,15)"
   ]
  },
  {
   "cell_type": "code",
   "execution_count": 19,
   "metadata": {
    "collapsed": false,
    "scrolled": false
   },
   "outputs": [
    {
     "data": {
      "text/html": [
       "<div>\n",
       "<table border=\"1\" class=\"dataframe\">\n",
       "  <thead>\n",
       "    <tr style=\"text-align: right;\">\n",
       "      <th></th>\n",
       "      <th>F</th>\n",
       "      <th>M</th>\n",
       "      <th>D</th>\n",
       "      <th>min_start_time</th>\n",
       "      <th>max_end_time</th>\n",
       "      <th>load_time</th>\n",
       "    </tr>\n",
       "    <tr>\n",
       "      <th>user_id</th>\n",
       "      <th></th>\n",
       "      <th></th>\n",
       "      <th></th>\n",
       "      <th></th>\n",
       "      <th></th>\n",
       "      <th></th>\n",
       "    </tr>\n",
       "  </thead>\n",
       "  <tbody>\n",
       "    <tr>\n",
       "      <th>1939</th>\n",
       "      <td>10</td>\n",
       "      <td>0</td>\n",
       "      <td>0.00</td>\n",
       "      <td>2015-10-24</td>\n",
       "      <td>2016-01-07</td>\n",
       "      <td>2017-01-15</td>\n",
       "    </tr>\n",
       "    <tr>\n",
       "      <th>2084</th>\n",
       "      <td>6</td>\n",
       "      <td>0</td>\n",
       "      <td>0.00</td>\n",
       "      <td>2015-12-10</td>\n",
       "      <td>2015-12-02</td>\n",
       "      <td>2017-01-15</td>\n",
       "    </tr>\n",
       "    <tr>\n",
       "      <th>3117</th>\n",
       "      <td>2</td>\n",
       "      <td>35</td>\n",
       "      <td>0.75</td>\n",
       "      <td>2015-10-18</td>\n",
       "      <td>2015-10-20</td>\n",
       "      <td>2017-01-15</td>\n",
       "    </tr>\n",
       "    <tr>\n",
       "      <th>5228</th>\n",
       "      <td>1</td>\n",
       "      <td>0</td>\n",
       "      <td>0.00</td>\n",
       "      <td>2015-12-15</td>\n",
       "      <td>2015-12-15</td>\n",
       "      <td>2017-01-15</td>\n",
       "    </tr>\n",
       "    <tr>\n",
       "      <th>7355</th>\n",
       "      <td>1</td>\n",
       "      <td>0</td>\n",
       "      <td>0.00</td>\n",
       "      <td>2016-12-28</td>\n",
       "      <td>2016-12-28</td>\n",
       "      <td>2017-01-15</td>\n",
       "    </tr>\n",
       "  </tbody>\n",
       "</table>\n",
       "</div>"
      ],
      "text/plain": [
       "          F   M     D min_start_time max_end_time  load_time\n",
       "user_id                                                     \n",
       "1939     10   0  0.00     2015-10-24   2016-01-07 2017-01-15\n",
       "2084      6   0  0.00     2015-12-10   2015-12-02 2017-01-15\n",
       "3117      2  35  0.75     2015-10-18   2015-10-20 2017-01-15\n",
       "5228      1   0  0.00     2015-12-15   2015-12-15 2017-01-15\n",
       "7355      1   0  0.00     2016-12-28   2016-12-28 2017-01-15"
      ]
     },
     "execution_count": 19,
     "metadata": {},
     "output_type": "execute_result"
    }
   ],
   "source": [
    "cnt_srs.head()"
   ]
  },
  {
   "cell_type": "code",
   "execution_count": 20,
   "metadata": {
    "collapsed": false,
    "scrolled": true
   },
   "outputs": [
    {
     "data": {
      "text/plain": [
       "user_id\n",
       "1939    2017-01-15\n",
       "2084    2017-01-15\n",
       "3117    2017-01-15\n",
       "5228    2017-01-15\n",
       "7355    2017-01-15\n",
       "8002    2017-01-15\n",
       "8274    2017-01-15\n",
       "11387   2017-01-15\n",
       "11401   2017-01-15\n",
       "11439   2017-01-15\n",
       "11440   2017-01-15\n",
       "11441   2017-01-15\n",
       "11455   2017-01-15\n",
       "11457   2017-01-15\n",
       "11461   2017-01-15\n",
       "11462   2017-01-15\n",
       "11466   2017-01-15\n",
       "11468   2017-01-15\n",
       "11471   2017-01-15\n",
       "11472   2017-01-15\n",
       "11473   2017-01-15\n",
       "11478   2017-01-15\n",
       "11480   2017-01-15\n",
       "11481   2017-01-15\n",
       "11482   2017-01-15\n",
       "11485   2017-01-15\n",
       "11486   2017-01-15\n",
       "11487   2017-01-15\n",
       "11488   2017-01-15\n",
       "11492   2017-01-15\n",
       "           ...    \n",
       "46929   2017-01-15\n",
       "46930   2017-01-15\n",
       "46931   2017-01-15\n",
       "46932   2017-01-15\n",
       "46933   2017-01-15\n",
       "46934   2017-01-15\n",
       "46935   2017-01-15\n",
       "46940   2017-01-15\n",
       "46950   2017-01-15\n",
       "46951   2017-01-15\n",
       "46958   2017-01-15\n",
       "46959   2017-01-15\n",
       "46964   2017-01-15\n",
       "46965   2017-01-15\n",
       "46968   2017-01-15\n",
       "46985   2017-01-15\n",
       "46986   2017-01-15\n",
       "46990   2017-01-15\n",
       "46991   2017-01-15\n",
       "46995   2017-01-15\n",
       "46999   2017-01-15\n",
       "47014   2017-01-15\n",
       "47019   2017-01-15\n",
       "47022   2017-01-15\n",
       "47026   2017-01-15\n",
       "47028   2017-01-15\n",
       "47030   2017-01-15\n",
       "47033   2017-01-15\n",
       "47040   2017-01-15\n",
       "47042   2017-01-15\n",
       "Name: load_time, dtype: datetime64[ns]"
      ]
     },
     "execution_count": 20,
     "metadata": {},
     "output_type": "execute_result"
    }
   ],
   "source": [
    "cnt_srs.load_time"
   ]
  },
  {
   "cell_type": "code",
   "execution_count": 21,
   "metadata": {
    "collapsed": false
   },
   "outputs": [
    {
     "data": {
      "text/html": [
       "<div>\n",
       "<table border=\"1\" class=\"dataframe\">\n",
       "  <thead>\n",
       "    <tr style=\"text-align: right;\">\n",
       "      <th></th>\n",
       "      <th>F</th>\n",
       "      <th>M</th>\n",
       "      <th>D</th>\n",
       "      <th>min_start_time</th>\n",
       "      <th>max_end_time</th>\n",
       "      <th>load_time</th>\n",
       "      <th>L</th>\n",
       "      <th>R</th>\n",
       "    </tr>\n",
       "    <tr>\n",
       "      <th>user_id</th>\n",
       "      <th></th>\n",
       "      <th></th>\n",
       "      <th></th>\n",
       "      <th></th>\n",
       "      <th></th>\n",
       "      <th></th>\n",
       "      <th></th>\n",
       "      <th></th>\n",
       "    </tr>\n",
       "  </thead>\n",
       "  <tbody>\n",
       "    <tr>\n",
       "      <th>1939</th>\n",
       "      <td>10</td>\n",
       "      <td>0</td>\n",
       "      <td>0.00</td>\n",
       "      <td>2015-10-24</td>\n",
       "      <td>2016-01-07</td>\n",
       "      <td>2017-01-15</td>\n",
       "      <td>449 days</td>\n",
       "      <td>374 days</td>\n",
       "    </tr>\n",
       "    <tr>\n",
       "      <th>2084</th>\n",
       "      <td>6</td>\n",
       "      <td>0</td>\n",
       "      <td>0.00</td>\n",
       "      <td>2015-12-10</td>\n",
       "      <td>2015-12-02</td>\n",
       "      <td>2017-01-15</td>\n",
       "      <td>402 days</td>\n",
       "      <td>410 days</td>\n",
       "    </tr>\n",
       "    <tr>\n",
       "      <th>3117</th>\n",
       "      <td>2</td>\n",
       "      <td>35</td>\n",
       "      <td>0.75</td>\n",
       "      <td>2015-10-18</td>\n",
       "      <td>2015-10-20</td>\n",
       "      <td>2017-01-15</td>\n",
       "      <td>455 days</td>\n",
       "      <td>453 days</td>\n",
       "    </tr>\n",
       "    <tr>\n",
       "      <th>5228</th>\n",
       "      <td>1</td>\n",
       "      <td>0</td>\n",
       "      <td>0.00</td>\n",
       "      <td>2015-12-15</td>\n",
       "      <td>2015-12-15</td>\n",
       "      <td>2017-01-15</td>\n",
       "      <td>397 days</td>\n",
       "      <td>397 days</td>\n",
       "    </tr>\n",
       "    <tr>\n",
       "      <th>7355</th>\n",
       "      <td>1</td>\n",
       "      <td>0</td>\n",
       "      <td>0.00</td>\n",
       "      <td>2016-12-28</td>\n",
       "      <td>2016-12-28</td>\n",
       "      <td>2017-01-15</td>\n",
       "      <td>18 days</td>\n",
       "      <td>18 days</td>\n",
       "    </tr>\n",
       "  </tbody>\n",
       "</table>\n",
       "</div>"
      ],
      "text/plain": [
       "          F   M     D min_start_time max_end_time  load_time        L        R\n",
       "user_id                                                                       \n",
       "1939     10   0  0.00     2015-10-24   2016-01-07 2017-01-15 449 days 374 days\n",
       "2084      6   0  0.00     2015-12-10   2015-12-02 2017-01-15 402 days 410 days\n",
       "3117      2  35  0.75     2015-10-18   2015-10-20 2017-01-15 455 days 453 days\n",
       "5228      1   0  0.00     2015-12-15   2015-12-15 2017-01-15 397 days 397 days\n",
       "7355      1   0  0.00     2016-12-28   2016-12-28 2017-01-15  18 days  18 days"
      ]
     },
     "execution_count": 21,
     "metadata": {},
     "output_type": "execute_result"
    }
   ],
   "source": [
    "##construct feature:  L=load_time-start_time; R=load_time-end_time; set load time = 2017.1.15\n",
    "##load_time:datetime64;   min_start_time:object\n",
    "##transfer object to datetime\n",
    "cnt_srs['min_start_time'] = pd.to_datetime(cnt_srs['min_start_time'])\n",
    "cnt_srs['max_end_time'] = pd.to_datetime(cnt_srs['max_end_time'])\n",
    "cnt_srs['L'] = cnt_srs['load_time'] - cnt_srs['min_start_time']\n",
    "cnt_srs['R'] = cnt_srs['load_time'] - cnt_srs['max_end_time']\n",
    "cnt_srs.head()"
   ]
  },
  {
   "cell_type": "code",
   "execution_count": 22,
   "metadata": {
    "collapsed": false
   },
   "outputs": [],
   "source": [
    "L =np.int64(cnt_srs.L)/86400000000000\n",
    "R = np.int64(cnt_srs.R)/86400000000000"
   ]
  },
  {
   "cell_type": "code",
   "execution_count": 23,
   "metadata": {
    "collapsed": true
   },
   "outputs": [],
   "source": [
    "df['L'] = L\n",
    "df['R'] = R\n",
    "df = df[['L','R','F','M','D']]"
   ]
  },
  {
   "cell_type": "code",
   "execution_count": 24,
   "metadata": {
    "collapsed": false
   },
   "outputs": [
    {
     "data": {
      "text/html": [
       "<div>\n",
       "<table border=\"1\" class=\"dataframe\">\n",
       "  <thead>\n",
       "    <tr style=\"text-align: right;\">\n",
       "      <th></th>\n",
       "      <th>L</th>\n",
       "      <th>R</th>\n",
       "      <th>F</th>\n",
       "      <th>M</th>\n",
       "      <th>D</th>\n",
       "    </tr>\n",
       "    <tr>\n",
       "      <th>user_id</th>\n",
       "      <th></th>\n",
       "      <th></th>\n",
       "      <th></th>\n",
       "      <th></th>\n",
       "      <th></th>\n",
       "    </tr>\n",
       "  </thead>\n",
       "  <tbody>\n",
       "    <tr>\n",
       "      <th>1939</th>\n",
       "      <td>449.0</td>\n",
       "      <td>374.0</td>\n",
       "      <td>10</td>\n",
       "      <td>0</td>\n",
       "      <td>0.00</td>\n",
       "    </tr>\n",
       "    <tr>\n",
       "      <th>2084</th>\n",
       "      <td>402.0</td>\n",
       "      <td>410.0</td>\n",
       "      <td>6</td>\n",
       "      <td>0</td>\n",
       "      <td>0.00</td>\n",
       "    </tr>\n",
       "    <tr>\n",
       "      <th>3117</th>\n",
       "      <td>455.0</td>\n",
       "      <td>453.0</td>\n",
       "      <td>2</td>\n",
       "      <td>35</td>\n",
       "      <td>0.75</td>\n",
       "    </tr>\n",
       "    <tr>\n",
       "      <th>5228</th>\n",
       "      <td>397.0</td>\n",
       "      <td>397.0</td>\n",
       "      <td>1</td>\n",
       "      <td>0</td>\n",
       "      <td>0.00</td>\n",
       "    </tr>\n",
       "    <tr>\n",
       "      <th>7355</th>\n",
       "      <td>18.0</td>\n",
       "      <td>18.0</td>\n",
       "      <td>1</td>\n",
       "      <td>0</td>\n",
       "      <td>0.00</td>\n",
       "    </tr>\n",
       "  </tbody>\n",
       "</table>\n",
       "</div>"
      ],
      "text/plain": [
       "             L      R   F   M     D\n",
       "user_id                            \n",
       "1939     449.0  374.0  10   0  0.00\n",
       "2084     402.0  410.0   6   0  0.00\n",
       "3117     455.0  453.0   2  35  0.75\n",
       "5228     397.0  397.0   1   0  0.00\n",
       "7355      18.0   18.0   1   0  0.00"
      ]
     },
     "execution_count": 24,
     "metadata": {},
     "output_type": "execute_result"
    }
   ],
   "source": [
    "df.head()"
   ]
  },
  {
   "cell_type": "code",
   "execution_count": 27,
   "metadata": {
    "collapsed": false
   },
   "outputs": [
    {
     "data": {
      "text/plain": [
       "(341, 5)"
      ]
     },
     "execution_count": 27,
     "metadata": {},
     "output_type": "execute_result"
    }
   ],
   "source": [
    "##remove  outlier ;such as M==0(count = 341)\n",
    "np.shape(df[df.M==0])"
   ]
  },
  {
   "cell_type": "code",
   "execution_count": 28,
   "metadata": {
    "collapsed": true
   },
   "outputs": [],
   "source": [
    "df = df[df.M!=0]"
   ]
  },
  {
   "cell_type": "code",
   "execution_count": 32,
   "metadata": {
    "collapsed": false
   },
   "outputs": [],
   "source": [
    "##using k-means\n",
    "from sklearn.cluster import KMeans\n",
    "from scipy.spatial.distance import cdist\n",
    "feature = ['L','R','F','M','D']\n",
    "input_data = df[feature]\n",
    "##normalization\n",
    "def autoNorm(dataSet):  \n",
    "    minVals = dataSet.min(0)  \n",
    "    maxVals = dataSet.max(0)  \n",
    "    ranges = maxVals - minVals  \n",
    "    normDataSet = np.zeros(np.shape(dataSet))  \n",
    "    m = dataSet.shape[0]  \n",
    "    normDataSet = dataSet - np.tile(minVals, (m,1))  \n",
    "    normDataSet = normDataSet/np.tile(ranges, (m,1))   #element wise divide  \n",
    "    return normDataSet\n",
    "normDataSet = autoNorm(input_data)"
   ]
  },
  {
   "cell_type": "code",
   "execution_count": 33,
   "metadata": {
    "collapsed": false
   },
   "outputs": [
    {
     "data": {
      "text/html": [
       "<div>\n",
       "<table border=\"1\" class=\"dataframe\">\n",
       "  <thead>\n",
       "    <tr style=\"text-align: right;\">\n",
       "      <th></th>\n",
       "      <th>L</th>\n",
       "      <th>R</th>\n",
       "      <th>F</th>\n",
       "      <th>M</th>\n",
       "      <th>D</th>\n",
       "    </tr>\n",
       "    <tr>\n",
       "      <th>user_id</th>\n",
       "      <th></th>\n",
       "      <th></th>\n",
       "      <th></th>\n",
       "      <th></th>\n",
       "      <th></th>\n",
       "    </tr>\n",
       "  </thead>\n",
       "  <tbody>\n",
       "    <tr>\n",
       "      <th>3117</th>\n",
       "      <td>1.000000</td>\n",
       "      <td>1.000000</td>\n",
       "      <td>0.002717</td>\n",
       "      <td>0.000142</td>\n",
       "      <td>0.375000</td>\n",
       "    </tr>\n",
       "    <tr>\n",
       "      <th>11387</th>\n",
       "      <td>0.993333</td>\n",
       "      <td>0.399554</td>\n",
       "      <td>0.127717</td>\n",
       "      <td>0.032425</td>\n",
       "      <td>0.200000</td>\n",
       "    </tr>\n",
       "    <tr>\n",
       "      <th>11401</th>\n",
       "      <td>0.971111</td>\n",
       "      <td>0.055804</td>\n",
       "      <td>0.038043</td>\n",
       "      <td>0.034213</td>\n",
       "      <td>0.303333</td>\n",
       "    </tr>\n",
       "    <tr>\n",
       "      <th>11439</th>\n",
       "      <td>0.982222</td>\n",
       "      <td>0.412946</td>\n",
       "      <td>0.035326</td>\n",
       "      <td>0.033567</td>\n",
       "      <td>0.107143</td>\n",
       "    </tr>\n",
       "    <tr>\n",
       "      <th>11440</th>\n",
       "      <td>0.991111</td>\n",
       "      <td>0.412946</td>\n",
       "      <td>0.027174</td>\n",
       "      <td>0.031734</td>\n",
       "      <td>0.136364</td>\n",
       "    </tr>\n",
       "  </tbody>\n",
       "</table>\n",
       "</div>"
      ],
      "text/plain": [
       "                L         R         F         M         D\n",
       "user_id                                                  \n",
       "3117     1.000000  1.000000  0.002717  0.000142  0.375000\n",
       "11387    0.993333  0.399554  0.127717  0.032425  0.200000\n",
       "11401    0.971111  0.055804  0.038043  0.034213  0.303333\n",
       "11439    0.982222  0.412946  0.035326  0.033567  0.107143\n",
       "11440    0.991111  0.412946  0.027174  0.031734  0.136364"
      ]
     },
     "execution_count": 33,
     "metadata": {},
     "output_type": "execute_result"
    }
   ],
   "source": [
    "normDataSet.head()"
   ]
  },
  {
   "cell_type": "code",
   "execution_count": 34,
   "metadata": {
    "collapsed": false
   },
   "outputs": [
    {
     "name": "stdout",
     "output_type": "stream",
     "text": [
      "Initialization complete\n",
      "start iteration\n",
      "done sorting\n",
      "end inner loop\n",
      "Iteration 0, inertia 221.312921597\n",
      "start iteration\n",
      "done sorting\n",
      "end inner loop\n",
      "Iteration 1, inertia 204.319815558\n",
      "start iteration\n",
      "done sorting\n",
      "end inner loop\n",
      "Iteration 2, inertia 192.686270221\n",
      "start iteration\n",
      "done sorting\n",
      "end inner loop\n",
      "Iteration 3, inertia 184.040765458\n",
      "start iteration\n",
      "done sorting\n",
      "end inner loop\n",
      "Iteration 4, inertia 171.106163154\n",
      "start iteration\n",
      "done sorting\n",
      "end inner loop\n",
      "Iteration 5, inertia 167.365000209\n",
      "start iteration\n",
      "done sorting\n",
      "end inner loop\n",
      "Iteration 6, inertia 167.067612499\n",
      "start iteration\n",
      "done sorting\n",
      "end inner loop\n",
      "Iteration 7, inertia 167.036477634\n",
      "start iteration\n",
      "done sorting\n",
      "end inner loop\n",
      "Iteration 8, inertia 167.025624983\n",
      "start iteration\n",
      "done sorting\n",
      "end inner loop\n",
      "Iteration 9, inertia 167.025624983\n",
      "center shift 0.000000e+00 within tolerance 6.330356e-06\n"
     ]
    },
    {
     "data": {
      "text/plain": [
       "KMeans(algorithm='auto', copy_x=True, init='k-means++', max_iter=300,\n",
       "    n_clusters=5, n_init=1, n_jobs=1, precompute_distances='auto',\n",
       "    random_state=None, tol=0.0001, verbose=1)"
      ]
     },
     "execution_count": 34,
     "metadata": {},
     "output_type": "execute_result"
    }
   ],
   "source": [
    "#default k = 5,init = k-mean++\n",
    "num_clusters = 5 \n",
    "clf = KMeans(n_clusters=num_clusters,  n_init=1, verbose=1)  \n",
    "clf.fit(normDataSet)  "
   ]
  },
  {
   "cell_type": "code",
   "execution_count": 36,
   "metadata": {
    "collapsed": false
   },
   "outputs": [
    {
     "data": {
      "text/plain": [
       "array([2, 3, 3, ..., 1, 1, 1])"
      ]
     },
     "execution_count": 36,
     "metadata": {},
     "output_type": "execute_result"
    }
   ],
   "source": [
    "clf.labels_"
   ]
  },
  {
   "cell_type": "code",
   "execution_count": 37,
   "metadata": {
    "collapsed": false,
    "scrolled": true
   },
   "outputs": [
    {
     "data": {
      "text/plain": [
       "array([[  7.01365818e-01,   6.89146298e-01,   8.12509028e-04,\n",
       "          6.69060711e-03,   9.34426910e-01],\n",
       "       [  9.88822355e-02,   5.43177039e-02,   3.90713139e-02,\n",
       "          4.17593098e-02,   2.21689226e-02],\n",
       "       [  9.18868012e-01,   8.65936288e-01,   1.47272397e-02,\n",
       "          1.40433367e-02,   2.54125654e-01],\n",
       "       [  9.17169844e-01,   3.38150668e-01,   9.48608964e-02,\n",
       "          9.54864743e-02,   1.64858831e-01],\n",
       "       [  4.31129864e-01,   4.60910815e-01,   2.83548890e-02,\n",
       "          3.18716116e-02,   2.60503572e-01]])"
      ]
     },
     "execution_count": 37,
     "metadata": {},
     "output_type": "execute_result"
    }
   ],
   "source": [
    "clf.cluster_centers_"
   ]
  },
  {
   "cell_type": "code",
   "execution_count": 44,
   "metadata": {
    "collapsed": false
   },
   "outputs": [],
   "source": [
    "data_arrary  = np.array(normDataSet)"
   ]
  },
  {
   "cell_type": "code",
   "execution_count": 46,
   "metadata": {
    "collapsed": false,
    "scrolled": true
   },
   "outputs": [
    {
     "data": {
      "text/plain": [
       "array([[  1.00000000e+00,   1.00000000e+00,   2.71739130e-03,\n",
       "          1.41686149e-04,   3.75000000e-01],\n",
       "       [  9.93333333e-01,   3.99553571e-01,   1.27717391e-01,\n",
       "          3.24252918e-02,   2.00000000e-01],\n",
       "       [  9.71111111e-01,   5.58035714e-02,   3.80434783e-02,\n",
       "          3.42130376e-02,   3.03333333e-01],\n",
       "       ..., \n",
       "       [  2.22222222e-03,   2.23214286e-03,   0.00000000e+00,\n",
       "          3.66717090e-03,   0.00000000e+00],\n",
       "       [  0.00000000e+00,   0.00000000e+00,   0.00000000e+00,\n",
       "          2.78371609e-03,   0.00000000e+00],\n",
       "       [  0.00000000e+00,   0.00000000e+00,   0.00000000e+00,\n",
       "          3.97971388e-03,   0.00000000e+00]])"
      ]
     },
     "execution_count": 46,
     "metadata": {},
     "output_type": "execute_result"
    }
   ],
   "source": [
    "data_arrary"
   ]
  },
  {
   "cell_type": "code",
   "execution_count": 52,
   "metadata": {
    "collapsed": false
   },
   "outputs": [
    {
     "data": {
      "text/plain": [
       "<matplotlib.figure.Figure at 0x17ea65057f0>"
      ]
     },
     "metadata": {},
     "output_type": "display_data"
    },
    {
     "data": {
      "text/plain": [
       "<matplotlib.figure.Figure at 0x17ea620d390>"
      ]
     },
     "metadata": {},
     "output_type": "display_data"
    },
    {
     "data": {
      "image/png": "[encoded data removed]",
      "text/plain": [
       "<matplotlib.figure.Figure at 0x17ea61f6d68>"
      ]
     },
     "metadata": {},
     "output_type": "display_data"
    }
   ],
   "source": [
    "##plot\n",
    "from matplotlib import pyplot as plt\n",
    "fig = plt.figure()\n",
    "ax = fig.add_subplot(111)\n",
    "ax.scatter(data_arrary[:,0],data_arrary[:,1],15.0*clf.labels_,15*clf.labels_)\"\"\"选前两列值作为坐标\"\"\"\n",
    "plt.xlabel(\"L\")\n",
    "plt.ylabel(\"R\")\n",
    "plt.show()"
   ]
  }
 ],
 "metadata": {
  "kernelspec": {
   "display_name": "Python 3",
   "language": "python",
   "name": "python3"
  },
  "language_info": {
   "codemirror_mode": {
    "name": "ipython",
    "version": 3
   },
   "file_extension": ".py",
   "mimetype": "text/x-python",
   "name": "python",
   "nbconvert_exporter": "python",
   "pygments_lexer": "ipython3",
   "version": "3.6.0"
  }
 },
 "nbformat": 4,
 "nbformat_minor": 2
}
